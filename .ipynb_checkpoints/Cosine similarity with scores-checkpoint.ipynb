{
 "cells": [
  {
   "cell_type": "code",
   "execution_count": 1,
   "metadata": {
    "colab": {
     "base_uri": "https://localhost:8080/"
    },
    "id": "Tbzz0e8DtkGh",
    "outputId": "87ac9f71-6d91-4afa-c382-1adc64cd3fef"
   },
   "outputs": [],
   "source": [
    "import nltk\n",
    "#nltk.download()\n",
    "import pandas as pd\n",
    "\n",
    "from sklearn.model_selection import train_test_split\n",
    "from sklearn.neighbors import KNeighborsClassifier\n",
    "from nltk.stem import PorterStemmer\n",
    "from nltk.corpus import stopwords\n",
    "from nltk.tokenize import word_tokenize\n",
    "from sklearn.feature_extraction.text import TfidfVectorizer\n",
    "from sklearn import preprocessing\n",
    "import re\n",
    "from nltk.stem import WordNetLemmatizer\n",
    "data = pd.read_csv('data = pd.read_csv(C:/Users/Eng/Desktop/Dataset.csv')\n",
    "label_encoder = preprocessing.LabelEncoder()\n",
    "data ['accuracy'] = label_encoder.fit_transform(data['accuracy'])\n",
    "student_answer = data['studentAnswer']\n",
    "ref_answers = data['referenceAnswer']\n",
    "ref_1= data['ref_1']\n",
    "ps = PorterStemmer()\n",
    "#answers_arr = answers.to_numpy()\n",
    "#ex_sentence = answers[0]\n",
    "stop_words = set(stopwords.words(\"english\"))"
   ]
  },
  {
   "cell_type": "code",
   "execution_count": 2,
   "metadata": {
    "id": "E7eyb-XrvKQL"
   },
   "outputs": [],
   "source": [
    "def clean(s):\n",
    "  out = word_tokenize(s)\n",
    "  ans = ' '.join([''.join(ps.stem(word)) for word in out if word not in stop_words])\n",
    "  return ans\n",
    "filtered_answers = [clean(s) for s in student_answer]"
   ]
  },
  {
   "cell_type": "code",
   "execution_count": 3,
   "metadata": {
    "colab": {
     "base_uri": "https://localhost:8080/"
    },
    "id": "07vT8laJvLf0",
    "outputId": "e7b22614-01c4-408e-9e33-71d6f0a7707e"
   },
   "outputs": [
    {
     "name": "stdout",
     "output_type": "stream",
     "text": [
      "by let sit dish day .\n",
      "By letting it sit in a dish for a day.\n"
     ]
    }
   ],
   "source": [
    "print(filtered_answers[0])\n",
    "print(student_answer[0])"
   ]
  },
  {
   "cell_type": "code",
   "execution_count": 4,
   "metadata": {
    "id": "QgZPyroguhNw"
   },
   "outputs": [],
   "source": [
    "def clean(s):\n",
    "  out = word_tokenize(s)\n",
    "  ans = ' '.join([''.join(ps.stem(word)) for word in out if word not in stop_words])\n",
    "  return ans\n",
    "filtered_answers_ref = [clean(s) for s in ref_1]"
   ]
  },
  {
   "cell_type": "code",
   "execution_count": 5,
   "metadata": {
    "colab": {
     "base_uri": "https://localhost:8080/"
    },
    "id": "eWHix7iOuur9",
    "outputId": "93f56985-59c8-4747-efd6-2890e4c5dfa4"
   },
   "outputs": [
    {
     "name": "stdout",
     "output_type": "stream",
     "text": [
      "we evapor salt water water evapor separ .\n",
      "We evaporated the salt from the water because the water evaporated and separated.\n"
     ]
    }
   ],
   "source": [
    "print(filtered_answers_ref[0])\n",
    "print(ref_1[0])"
   ]
  },
  {
   "cell_type": "code",
   "execution_count": 6,
   "metadata": {
    "id": "RZj2_Zvtu9HI"
   },
   "outputs": [],
   "source": [
    "answers= filtered_answers+filtered_answers_ref"
   ]
  },
  {
   "cell_type": "code",
   "execution_count": 7,
   "metadata": {
    "id": "N9ADjHfzvhSk"
   },
   "outputs": [],
   "source": [
    "l=len(filtered_answers)"
   ]
  },
  {
   "cell_type": "code",
   "execution_count": 8,
   "metadata": {
    "id": "-BpgCIGHvhbN"
   },
   "outputs": [],
   "source": [
    "test_sent = answers\n",
    "# print(test_sent)\n",
    "cv = TfidfVectorizer()\n",
    "tfidf = cv.fit_transform(test_sent)\n",
    "students_answers = tfidf[:l]\n",
    "model_answers = tfidf[l:]"
   ]
  },
  {
   "cell_type": "code",
   "execution_count": 9,
   "metadata": {
    "colab": {
     "base_uri": "https://localhost:8080/"
    },
    "id": "HxRlLDHfvhhi",
    "outputId": "d4c31e3d-b936-4a62-9840-926417bcf99f"
   },
   "outputs": [
    {
     "name": "stdout",
     "output_type": "stream",
     "text": [
      "Cosine Similarity comparing student answer 0 and model answer 0 is [[0.]]\n",
      "Cosine Similarity comparing student answer 1 and model answer 1 is [[0.47921638]]\n",
      "Cosine Similarity comparing student answer 2 and model answer 2 is [[0.57421108]]\n",
      "Cosine Similarity comparing student answer 3 and model answer 3 is [[0.08860209]]\n",
      "Cosine Similarity comparing student answer 4 and model answer 4 is [[0.10502184]]\n",
      "Cosine Similarity comparing student answer 5 and model answer 5 is [[0.50214509]]\n",
      "Cosine Similarity comparing student answer 6 and model answer 6 is [[0.]]\n",
      "Cosine Similarity comparing student answer 7 and model answer 7 is [[0.63303424]]\n",
      "Cosine Similarity comparing student answer 8 and model answer 8 is [[0.64692536]]\n",
      "Cosine Similarity comparing student answer 9 and model answer 9 is [[0.48199351]]\n",
      "Cosine Similarity comparing student answer 10 and model answer 10 is [[0.36787392]]\n",
      "Cosine Similarity comparing student answer 11 and model answer 11 is [[0.57027885]]\n",
      "Cosine Similarity comparing student answer 12 and model answer 12 is [[0.26403346]]\n",
      "Cosine Similarity comparing student answer 13 and model answer 13 is [[0.68622413]]\n",
      "Cosine Similarity comparing student answer 14 and model answer 14 is [[0.20980854]]\n",
      "Cosine Similarity comparing student answer 15 and model answer 15 is [[0.12205187]]\n",
      "Cosine Similarity comparing student answer 16 and model answer 16 is [[0.08948016]]\n",
      "Cosine Similarity comparing student answer 17 and model answer 17 is [[1.]]\n",
      "Cosine Similarity comparing student answer 18 and model answer 18 is [[0.55263272]]\n",
      "Cosine Similarity comparing student answer 19 and model answer 19 is [[0.25791044]]\n"
     ]
    }
   ],
   "source": [
    "from sklearn.metrics.pairwise import cosine_similarity\n",
    "for x in range(20):\n",
    "    print(\"Cosine Similarity comparing student answer\" , x, \"and model answer\",x , \"is\" ,cosine_similarity(students_answers[x], model_answers[x]))"
   ]
  },
  {
   "cell_type": "code",
   "execution_count": 10,
   "metadata": {
    "colab": {
     "base_uri": "https://localhost:8080/"
    },
    "id": "9DTstI5NYp0y",
    "outputId": "536243fe-dd30-43ef-8ebb-65c35455ee68"
   },
   "outputs": [
    {
     "data": {
      "text/plain": [
       "array([[0.08860209]])"
      ]
     },
     "execution_count": 10,
     "metadata": {},
     "output_type": "execute_result"
    }
   ],
   "source": [
    "#Just to check same value or not\n",
    "from sklearn.metrics.pairwise import cosine_similarity\n",
    "cosine_similarity(students_answers[3], model_answers[3])"
   ]
  },
  {
   "cell_type": "code",
   "execution_count": 11,
   "metadata": {
    "colab": {
     "base_uri": "https://localhost:8080/"
    },
    "id": "S9lvUv-SZaGm",
    "outputId": "a53f6f8e-f4d6-4e3c-9b3d-2168fd059d90"
   },
   "outputs": [
    {
     "data": {
      "text/plain": [
       "array([[0.10502184]])"
      ]
     },
     "execution_count": 11,
     "metadata": {},
     "output_type": "execute_result"
    }
   ],
   "source": [
    "from sklearn.metrics.pairwise import cosine_similarity\n",
    "cosine_similarity(students_answers[4], model_answers[4])"
   ]
  },
  {
   "cell_type": "code",
   "execution_count": 12,
   "metadata": {
    "id": "M0fYoCfJvhv-"
   },
   "outputs": [],
   "source": [
    "threshold = 0.01\n",
    "predictions = []\n",
    "for i in range(l):\n",
    "  predictions.append(*(cosine_similarity(students_answers[i], model_answers[i]) > threshold)[0])"
   ]
  },
  {
   "cell_type": "code",
   "execution_count": 13,
   "metadata": {
    "id": "OCF5-dXEwAm4"
   },
   "outputs": [],
   "source": [
    "predictions = [1 if predictions[i] == True else 0 for i in range(len(predictions))]"
   ]
  },
  {
   "cell_type": "code",
   "execution_count": 14,
   "metadata": {
    "colab": {
     "base_uri": "https://localhost:8080/"
    },
    "id": "igpB4l25wB3I",
    "outputId": "87368d38-669f-4ca3-ea39-7013e52de09d"
   },
   "outputs": [
    {
     "name": "stdout",
     "output_type": "stream",
     "text": [
      "0.4619289340101523\n"
     ]
    }
   ],
   "source": [
    "from sklearn.metrics import accuracy_score, precision_score, f1_score, recall_score\n",
    "acc =  accuracy_score(data['accuracy'].to_numpy(), predictions)\n",
    "print(acc)"
   ]
  },
  {
   "cell_type": "code",
   "execution_count": 15,
   "metadata": {
    "colab": {
     "base_uri": "https://localhost:8080/"
    },
    "id": "xLGWiNZ_x-T9",
    "outputId": "ab03afc2-71b0-45ad-a74b-894ea265fa4c"
   },
   "outputs": [
    {
     "name": "stdout",
     "output_type": "stream",
     "text": [
      "0.6101794645483966 0.704483695652174 0.5381421899325376\n"
     ]
    }
   ],
   "source": [
    "f1 = f1_score(data['accuracy'].to_numpy(), predictions) \n",
    "r = recall_score(data['accuracy'].to_numpy(), predictions)\n",
    "p = precision_score(data['accuracy'].to_numpy(), predictions)\n",
    "print(f1, r, p)"
   ]
  }
 ],
 "metadata": {
  "colab": {
   "name": "lastv2.ipynb",
   "provenance": []
  },
  "kernelspec": {
   "display_name": "Python 3 (ipykernel)",
   "language": "python",
   "name": "python3"
  },
  "language_info": {
   "codemirror_mode": {
    "name": "ipython",
    "version": 3
   },
   "file_extension": ".py",
   "mimetype": "text/x-python",
   "name": "python",
   "nbconvert_exporter": "python",
   "pygments_lexer": "ipython3",
   "version": "3.7.9"
  }
 },
 "nbformat": 4,
 "nbformat_minor": 1
}
