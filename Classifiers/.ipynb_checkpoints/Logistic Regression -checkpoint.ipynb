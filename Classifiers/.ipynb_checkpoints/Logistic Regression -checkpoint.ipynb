{
 "cells": [
  {
   "cell_type": "code",
   "execution_count": 1,
   "metadata": {},
   "outputs": [],
   "source": [
    "import gzip\n",
    "import itertools\n",
    "import string\n",
    "\n",
    "import numpy as np\n",
    "import pandas as pd\n",
    "import datetime as dt\n",
    "import matplotlib.pyplot as plt\n",
    "import pylab as pl\n",
    "import nltk\n",
    "\n",
    "\n",
    "from collections import Counter\n",
    "from sklearn import svm\n",
    "from sklearn.pipeline import Pipeline, make_pipeline\n",
    "from sklearn.linear_model import LogisticRegression\n",
    "from sklearn.feature_extraction.text import CountVectorizer, TfidfVectorizer\n",
    "from sklearn.decomposition import NMF, LatentDirichletAllocation\n",
    "from sklearn.naive_bayes import MultinomialNB\n",
    "from sklearn.model_selection import train_test_split, cross_val_score\n",
    "from sklearn.model_selection import GridSearchCV\n",
    "from sklearn.metrics import accuracy_score, confusion_matrix, f1_score\n",
    "\n",
    "from nltk import word_tokenize\n",
    "from nltk.corpus import stopwords\n",
    "from nltk.stem.wordnet import WordNetLemmatizer\n",
    "\n",
    "\n",
    "%matplotlib inline"
   ]
  },
  {
   "cell_type": "code",
   "execution_count": 2,
   "metadata": {},
   "outputs": [],
   "source": [
    "from nltk.tokenize import RegexpTokenizer\n",
    "from nltk.corpus import wordnet\n",
    "from sklearn import metrics\n",
    "from collections import defaultdict"
   ]
  },
  {
   "cell_type": "code",
   "execution_count": 3,
   "metadata": {
    "scrolled": true
   },
   "outputs": [
    {
     "data": {
      "text/html": [
       "<div>\n",
       "<style scoped>\n",
       "    .dataframe tbody tr th:only-of-type {\n",
       "        vertical-align: middle;\n",
       "    }\n",
       "\n",
       "    .dataframe tbody tr th {\n",
       "        vertical-align: top;\n",
       "    }\n",
       "\n",
       "    .dataframe thead th {\n",
       "        text-align: right;\n",
       "    }\n",
       "</style>\n",
       "<table border=\"1\" class=\"dataframe\">\n",
       "  <thead>\n",
       "    <tr style=\"text-align: right;\">\n",
       "      <th></th>\n",
       "      <th>Unnamed: 0</th>\n",
       "      <th>studentAnswer</th>\n",
       "      <th>referenceAnswer</th>\n",
       "      <th>ref_1</th>\n",
       "      <th>ref_2</th>\n",
       "      <th>accuracy</th>\n",
       "    </tr>\n",
       "  </thead>\n",
       "  <tbody>\n",
       "    <tr>\n",
       "      <th>0</th>\n",
       "      <td>0</td>\n",
       "      <td>By letting it sit in a dish for a day.</td>\n",
       "      <td>The water was evaporated, leaving the salt.</td>\n",
       "      <td>We evaporated the salt from the water because ...</td>\n",
       "      <td>I put some water in a dish and let the water e...</td>\n",
       "      <td>incorrect</td>\n",
       "    </tr>\n",
       "    <tr>\n",
       "      <th>1</th>\n",
       "      <td>1</td>\n",
       "      <td>Let the water evaporate and the salt is left b...</td>\n",
       "      <td>The water was evaporated, leaving the salt.</td>\n",
       "      <td>We evaporated the salt from the water because ...</td>\n",
       "      <td>I put some water in a dish and let the water e...</td>\n",
       "      <td>correct</td>\n",
       "    </tr>\n",
       "    <tr>\n",
       "      <th>2</th>\n",
       "      <td>2</td>\n",
       "      <td>The water evaporated and left salt crystals.</td>\n",
       "      <td>The water was evaporated, leaving the salt.</td>\n",
       "      <td>We evaporated the salt from the water because ...</td>\n",
       "      <td>I put some water in a dish and let the water e...</td>\n",
       "      <td>correct</td>\n",
       "    </tr>\n",
       "    <tr>\n",
       "      <th>3</th>\n",
       "      <td>3</td>\n",
       "      <td>I saw a pinkish grayish color that was blockin...</td>\n",
       "      <td>The water was evaporated, leaving the salt.</td>\n",
       "      <td>We evaporated the salt from the water because ...</td>\n",
       "      <td>I put some water in a dish and let the water e...</td>\n",
       "      <td>incorrect</td>\n",
       "    </tr>\n",
       "    <tr>\n",
       "      <th>4</th>\n",
       "      <td>4</td>\n",
       "      <td>You have to slowly tip the vial for only the w...</td>\n",
       "      <td>The water was evaporated, leaving the salt.</td>\n",
       "      <td>We evaporated the salt from the water because ...</td>\n",
       "      <td>I put some water in a dish and let the water e...</td>\n",
       "      <td>incorrect</td>\n",
       "    </tr>\n",
       "  </tbody>\n",
       "</table>\n",
       "</div>"
      ],
      "text/plain": [
       "   Unnamed: 0                                      studentAnswer  \\\n",
       "0           0             By letting it sit in a dish for a day.   \n",
       "1           1  Let the water evaporate and the salt is left b...   \n",
       "2           2       The water evaporated and left salt crystals.   \n",
       "3           3  I saw a pinkish grayish color that was blockin...   \n",
       "4           4  You have to slowly tip the vial for only the w...   \n",
       "\n",
       "                               referenceAnswer  \\\n",
       "0  The water was evaporated, leaving the salt.   \n",
       "1  The water was evaporated, leaving the salt.   \n",
       "2  The water was evaporated, leaving the salt.   \n",
       "3  The water was evaporated, leaving the salt.   \n",
       "4  The water was evaporated, leaving the salt.   \n",
       "\n",
       "                                               ref_1  \\\n",
       "0  We evaporated the salt from the water because ...   \n",
       "1  We evaporated the salt from the water because ...   \n",
       "2  We evaporated the salt from the water because ...   \n",
       "3  We evaporated the salt from the water because ...   \n",
       "4  We evaporated the salt from the water because ...   \n",
       "\n",
       "                                               ref_2   accuracy  \n",
       "0  I put some water in a dish and let the water e...  incorrect  \n",
       "1  I put some water in a dish and let the water e...    correct  \n",
       "2  I put some water in a dish and let the water e...    correct  \n",
       "3  I put some water in a dish and let the water e...  incorrect  \n",
       "4  I put some water in a dish and let the water e...  incorrect  "
      ]
     },
     "execution_count": 3,
     "metadata": {},
     "output_type": "execute_result"
    }
   ],
   "source": [
    "df=pd.read_csv('../Dataset.csv')\n",
    "df.head()"
   ]
  },
  {
   "cell_type": "code",
   "execution_count": 4,
   "metadata": {},
   "outputs": [],
   "source": [
    "text = df['studentAnswer']"
   ]
  },
  {
   "cell_type": "code",
   "execution_count": 5,
   "metadata": {},
   "outputs": [
    {
     "data": {
      "text/plain": [
       "4925"
      ]
     },
     "execution_count": 5,
     "metadata": {},
     "output_type": "execute_result"
    }
   ],
   "source": [
    "text.count()"
   ]
  },
  {
   "cell_type": "code",
   "execution_count": 6,
   "metadata": {},
   "outputs": [
    {
     "name": "stderr",
     "output_type": "stream",
     "text": [
      "[nltk_data] Downloading package stopwords to\n",
      "[nltk_data]     C:\\Users\\maria\\AppData\\Roaming\\nltk_data...\n",
      "[nltk_data]   Package stopwords is already up-to-date!\n"
     ]
    },
    {
     "data": {
      "text/plain": [
       "True"
      ]
     },
     "execution_count": 6,
     "metadata": {},
     "output_type": "execute_result"
    }
   ],
   "source": [
    "nltk.download('stopwords')"
   ]
  },
  {
   "cell_type": "code",
   "execution_count": 7,
   "metadata": {
    "scrolled": true
   },
   "outputs": [],
   "source": [
    "stop_words = stopwords.words('english')"
   ]
  },
  {
   "cell_type": "code",
   "execution_count": 8,
   "metadata": {
    "scrolled": false
   },
   "outputs": [],
   "source": [
    "wordnet_lemmatizer = WordNetLemmatizer()\n",
    "tokenizer = RegexpTokenizer(r'[a-z]+')\n",
    "\n",
    "def preprocess(document):\n",
    "    document = document.lower() # Convert to lowercase\n",
    "    words = tokenizer.tokenize(document) # Tokenize\n",
    "    words = [w for w in words if not w in stop_words] # Removing stopwords\n",
    "    # Lemmatizing\n",
    "    for pos in [wordnet.NOUN, wordnet.VERB, wordnet.ADJ, wordnet.ADV]:\n",
    "        words = [wordnet_lemmatizer.lemmatize(x, pos) for x in words]\n",
    "    return \" \".join(words)\n",
    "\n"
   ]
  },
  {
   "cell_type": "code",
   "execution_count": 9,
   "metadata": {},
   "outputs": [
    {
     "name": "stderr",
     "output_type": "stream",
     "text": [
      "[nltk_data] Downloading package wordnet to\n",
      "[nltk_data]     C:\\Users\\maria\\AppData\\Roaming\\nltk_data...\n",
      "[nltk_data]   Package wordnet is already up-to-date!\n"
     ]
    },
    {
     "data": {
      "text/plain": [
       "True"
      ]
     },
     "execution_count": 9,
     "metadata": {},
     "output_type": "execute_result"
    }
   ],
   "source": [
    "nltk.download('wordnet')"
   ]
  },
  {
   "cell_type": "code",
   "execution_count": 10,
   "metadata": {},
   "outputs": [],
   "source": [
    "df['studentAnswer'] = df['referenceAnswer'].apply(preprocess)"
   ]
  },
  {
   "cell_type": "code",
   "execution_count": 11,
   "metadata": {
    "scrolled": true
   },
   "outputs": [
    {
     "data": {
      "text/html": [
       "<div>\n",
       "<style scoped>\n",
       "    .dataframe tbody tr th:only-of-type {\n",
       "        vertical-align: middle;\n",
       "    }\n",
       "\n",
       "    .dataframe tbody tr th {\n",
       "        vertical-align: top;\n",
       "    }\n",
       "\n",
       "    .dataframe thead th {\n",
       "        text-align: right;\n",
       "    }\n",
       "</style>\n",
       "<table border=\"1\" class=\"dataframe\">\n",
       "  <thead>\n",
       "    <tr style=\"text-align: right;\">\n",
       "      <th></th>\n",
       "      <th>Unnamed: 0</th>\n",
       "      <th>studentAnswer</th>\n",
       "      <th>referenceAnswer</th>\n",
       "      <th>ref_1</th>\n",
       "      <th>ref_2</th>\n",
       "      <th>accuracy</th>\n",
       "    </tr>\n",
       "  </thead>\n",
       "  <tbody>\n",
       "    <tr>\n",
       "      <th>0</th>\n",
       "      <td>0</td>\n",
       "      <td>water evaporate leave salt</td>\n",
       "      <td>The water was evaporated, leaving the salt.</td>\n",
       "      <td>We evaporated the salt from the water because ...</td>\n",
       "      <td>I put some water in a dish and let the water e...</td>\n",
       "      <td>incorrect</td>\n",
       "    </tr>\n",
       "    <tr>\n",
       "      <th>1</th>\n",
       "      <td>1</td>\n",
       "      <td>water evaporate leave salt</td>\n",
       "      <td>The water was evaporated, leaving the salt.</td>\n",
       "      <td>We evaporated the salt from the water because ...</td>\n",
       "      <td>I put some water in a dish and let the water e...</td>\n",
       "      <td>correct</td>\n",
       "    </tr>\n",
       "    <tr>\n",
       "      <th>2</th>\n",
       "      <td>2</td>\n",
       "      <td>water evaporate leave salt</td>\n",
       "      <td>The water was evaporated, leaving the salt.</td>\n",
       "      <td>We evaporated the salt from the water because ...</td>\n",
       "      <td>I put some water in a dish and let the water e...</td>\n",
       "      <td>correct</td>\n",
       "    </tr>\n",
       "    <tr>\n",
       "      <th>3</th>\n",
       "      <td>3</td>\n",
       "      <td>water evaporate leave salt</td>\n",
       "      <td>The water was evaporated, leaving the salt.</td>\n",
       "      <td>We evaporated the salt from the water because ...</td>\n",
       "      <td>I put some water in a dish and let the water e...</td>\n",
       "      <td>incorrect</td>\n",
       "    </tr>\n",
       "    <tr>\n",
       "      <th>4</th>\n",
       "      <td>4</td>\n",
       "      <td>water evaporate leave salt</td>\n",
       "      <td>The water was evaporated, leaving the salt.</td>\n",
       "      <td>We evaporated the salt from the water because ...</td>\n",
       "      <td>I put some water in a dish and let the water e...</td>\n",
       "      <td>incorrect</td>\n",
       "    </tr>\n",
       "  </tbody>\n",
       "</table>\n",
       "</div>"
      ],
      "text/plain": [
       "   Unnamed: 0               studentAnswer  \\\n",
       "0           0  water evaporate leave salt   \n",
       "1           1  water evaporate leave salt   \n",
       "2           2  water evaporate leave salt   \n",
       "3           3  water evaporate leave salt   \n",
       "4           4  water evaporate leave salt   \n",
       "\n",
       "                               referenceAnswer  \\\n",
       "0  The water was evaporated, leaving the salt.   \n",
       "1  The water was evaporated, leaving the salt.   \n",
       "2  The water was evaporated, leaving the salt.   \n",
       "3  The water was evaporated, leaving the salt.   \n",
       "4  The water was evaporated, leaving the salt.   \n",
       "\n",
       "                                               ref_1  \\\n",
       "0  We evaporated the salt from the water because ...   \n",
       "1  We evaporated the salt from the water because ...   \n",
       "2  We evaporated the salt from the water because ...   \n",
       "3  We evaporated the salt from the water because ...   \n",
       "4  We evaporated the salt from the water because ...   \n",
       "\n",
       "                                               ref_2   accuracy  \n",
       "0  I put some water in a dish and let the water e...  incorrect  \n",
       "1  I put some water in a dish and let the water e...    correct  \n",
       "2  I put some water in a dish and let the water e...    correct  \n",
       "3  I put some water in a dish and let the water e...  incorrect  \n",
       "4  I put some water in a dish and let the water e...  incorrect  "
      ]
     },
     "execution_count": 11,
     "metadata": {},
     "output_type": "execute_result"
    }
   ],
   "source": [
    "df.head()"
   ]
  },
  {
   "cell_type": "code",
   "execution_count": 12,
   "metadata": {},
   "outputs": [],
   "source": [
    "studentAnswer = df[\"studentAnswer\"]"
   ]
  },
  {
   "cell_type": "code",
   "execution_count": 13,
   "metadata": {},
   "outputs": [],
   "source": [
    "x_train, x_test, y_train, y_test = train_test_split(df.studentAnswer, df.accuracy, random_state=0)"
   ]
  },
  {
   "cell_type": "code",
   "execution_count": 14,
   "metadata": {},
   "outputs": [
    {
     "name": "stdout",
     "output_type": "stream",
     "text": [
      "x_train shape: (3693,)\n",
      "y_train shape: (3693,)\n",
      "\n",
      "x_test shape: (1232,)\n",
      "y_test shape: (1232,)\n",
      "\n"
     ]
    }
   ],
   "source": [
    "print(\"x_train shape: {}\".format(x_train.shape), end='\\n')\n",
    "print(\"y_train shape: {}\".format(y_train.shape), end='\\n\\n')\n",
    "print(\"x_test shape: {}\".format(x_test.shape), end='\\n')\n",
    "print(\"y_test shape: {}\".format(y_test.shape), end='\\n\\n')"
   ]
  },
  {
   "cell_type": "code",
   "execution_count": 15,
   "metadata": {},
   "outputs": [
    {
     "data": {
      "text/plain": [
       "2864      correct\n",
       "685       correct\n",
       "2260      correct\n",
       "3935      correct\n",
       "221     incorrect\n",
       "          ...    \n",
       "4859    incorrect\n",
       "3264    incorrect\n",
       "1653    incorrect\n",
       "2607    incorrect\n",
       "2732      correct\n",
       "Name: accuracy, Length: 3693, dtype: object"
      ]
     },
     "execution_count": 15,
     "metadata": {},
     "output_type": "execute_result"
    }
   ],
   "source": [
    "y_train"
   ]
  },
  {
   "cell_type": "code",
   "execution_count": 16,
   "metadata": {},
   "outputs": [
    {
     "name": "stdout",
     "output_type": "stream",
     "text": [
      "Number of features : 442 \n",
      "\n",
      "Show some feature names : \n",
      " ['absorb']\n"
     ]
    },
    {
     "data": {
      "text/plain": [
       "LogisticRegression()"
      ]
     },
     "execution_count": 16,
     "metadata": {},
     "output_type": "execute_result"
    }
   ],
   "source": [
    "# Fitting and transforming the training data to a document-term matrix using TfidfVectorizer \n",
    "tfidf = TfidfVectorizer(min_df=5) #minimum document frequency of 5\n",
    "X_train_tfidf = tfidf.fit_transform(x_train)\n",
    "print(\"Number of features : %d \\n\" %len(tfidf.get_feature_names())) #1722\n",
    "print(\"Show some feature names : \\n\", tfidf.get_feature_names()[::1000])\n",
    "\n",
    "# Logistic Regression\n",
    "lr = LogisticRegression()\n",
    "lr.fit(X_train_tfidf, y_train)"
   ]
  },
  {
   "cell_type": "code",
   "execution_count": 17,
   "metadata": {},
   "outputs": [
    {
     "name": "stdout",
     "output_type": "stream",
     "text": [
      "\n",
      "Top 10 features with the smallest coefficients :\n",
      "['notice' 'bubble' 'people' 'heater' 'mixture' 'greta' 'hand' 'andre'\n",
      " 'run' 'sugar']\n",
      "\n",
      "Top 10 features with the largest coefficients : \n",
      "['solution' 'still' 'make' 'begin' 'grow' 'continue' 'flow' 'acid' 'boat'\n",
      " 'carbon']\n"
     ]
    }
   ],
   "source": [
    "feature_names = np.array(tfidf.get_feature_names())\n",
    "sorted_coef_index = lr.coef_[0].argsort()\n",
    "print('\\nTop 10 features with the smallest coefficients :\\n{}\\n'.format(feature_names[sorted_coef_index[:10]]))\n",
    "print('Top 10 features with the largest coefficients : \\n{}'.format(feature_names[sorted_coef_index[:-11:-1]]))"
   ]
  },
  {
   "cell_type": "code",
   "execution_count": 18,
   "metadata": {},
   "outputs": [],
   "source": [
    "def modelEvaluation(predictions):\n",
    "    '''\n",
    "    Print model evaluation to predicted result \n",
    "    '''\n",
    "    print (\"\\nAccuracy on validation set: {:.4f}\".format(accuracy_score(y_test, predictions)))\n",
    "    #print(\"\\nAUC score : {:.4f}\".format(roc_auc_score(y_test, predictions)))\n",
    "    print(\"\\nClassification report : \\n\", metrics.classification_report(y_test, predictions))\n",
    "    print(\"\\nConfusion Matrix : \\n\", metrics.confusion_matrix(y_test, predictions))"
   ]
  },
  {
   "cell_type": "code",
   "execution_count": 19,
   "metadata": {},
   "outputs": [
    {
     "name": "stdout",
     "output_type": "stream",
     "text": [
      "\n",
      "Accuracy on validation set: 0.6705\n",
      "\n",
      "Classification report : \n",
      "               precision    recall  f1-score   support\n",
      "\n",
      "     correct       0.61      0.51      0.55       499\n",
      "   incorrect       0.70      0.78      0.74       733\n",
      "\n",
      "    accuracy                           0.67      1232\n",
      "   macro avg       0.66      0.64      0.65      1232\n",
      "weighted avg       0.66      0.67      0.66      1232\n",
      "\n",
      "\n",
      "Confusion Matrix : \n",
      " [[253 246]\n",
      " [160 573]]\n"
     ]
    }
   ],
   "source": [
    "predictions = lr.predict(tfidf.transform(x_test))\n",
    "modelEvaluation(predictions)"
   ]
  },
  {
   "cell_type": "code",
   "execution_count": 20,
   "metadata": {},
   "outputs": [
    {
     "name": "stdout",
     "output_type": "stream",
     "text": [
      "Accuracy: 0.68 (+/- 0.02)\n",
      "\n",
      "Accuracy on validation set: 0.6875\n",
      "\n",
      "Classification report : \n",
      "               precision    recall  f1-score   support\n",
      "\n",
      "     correct       0.64      0.51      0.57       499\n",
      "   incorrect       0.71      0.81      0.75       733\n",
      "\n",
      "    accuracy                           0.69      1232\n",
      "   macro avg       0.68      0.66      0.66      1232\n",
      "weighted avg       0.68      0.69      0.68      1232\n",
      "\n",
      "\n",
      "Confusion Matrix : \n",
      " [[255 244]\n",
      " [141 592]]\n"
     ]
    }
   ],
   "source": [
    "cross_data=tfidf.fit_transform(df[\"studentAnswer\"])\n",
    "cross_target=df[\"accuracy\"] \n",
    "clf =  LogisticRegression()\n",
    "clf.fit(X_train_tfidf, y_train)\n",
    "\n",
    "#scores = cross_val_score(lr,X_train_tfidf, y_train, cv=5)\n",
    "\n",
    "from sklearn.model_selection import ShuffleSplit\n",
    "\n",
    "cv = ShuffleSplit(n_splits=10, test_size=0.3, random_state=0)\n",
    "\n",
    "scores=cross_val_score(clf, X_train_tfidf, y_train, cv=cv)\n",
    "\n",
    "scores \n",
    "print(\"Accuracy: %0.2f (+/- %0.2f)\" % (scores.mean(), scores.std() * 2)) \n",
    "cross_predictions = clf.predict(tfidf.transform(x_test)) \n",
    "\n",
    "modelEvaluation(cross_predictions)"
   ]
  },
  {
   "cell_type": "code",
   "execution_count": 22,
   "metadata": {},
   "outputs": [
    {
     "data": {
      "image/png": "[encoded data removed]",
      "text/plain": [
       "<Figure size 432x288 with 2 Axes>"
      ]
     },
     "metadata": {
      "needs_background": "light"
     },
     "output_type": "display_data"
    }
   ],
   "source": [
    "\n",
    "cfm = confusion_matrix(y_test,cross_predictions)\n",
    "plt.imshow(cfm, interpolation='nearest')\n",
    "\n",
    "for i, j in itertools.product(range(cfm.shape[0]), range(cfm.shape[1])):\n",
    "    plt.text(j, i, cfm[i, j],\n",
    "             horizontalalignment=\"center\",\n",
    "             color=\"white\")\n",
    "\n",
    "plt.ylabel('True label (Recall)')\n",
    "plt.xlabel('Predicted label (Precision)')\n",
    "plt.title('Logistic Regression with TFIDF | Confusion Matrix')\n",
    "plt.colorbar();"
   ]
  },
  {
   "cell_type": "code",
   "execution_count": null,
   "metadata": {},
   "outputs": [],
   "source": []
  }
 ],
 "metadata": {
  "kernelspec": {
   "display_name": "Python 3",
   "language": "python",
   "name": "python3"
  },
  "language_info": {
   "codemirror_mode": {
    "name": "ipython",
    "version": 3
   },
   "file_extension": ".py",
   "mimetype": "text/x-python",
   "name": "python",
   "nbconvert_exporter": "python",
   "pygments_lexer": "ipython3",
   "version": "3.8.8"
  }
 },
 "nbformat": 4,
 "nbformat_minor": 4
}
