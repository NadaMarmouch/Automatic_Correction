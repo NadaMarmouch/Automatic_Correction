{
 "cells": [
  {
   "cell_type": "code",
   "execution_count": 1,
   "metadata": {
    "colab": {
     "base_uri": "https://localhost:8080/"
    },
    "id": "wiAMTqtU6FD3",
    "outputId": "6843b5c1-7abe-49ce-eed2-a10fb51cd24f"
   },
   "outputs": [],
   "source": [
    "import nltk\n",
    "import pandas as pd\n",
    "from sklearn.model_selection import train_test_split\n",
    "from sklearn.neighbors import KNeighborsClassifier\n",
    "from nltk.stem import PorterStemmer\n",
    "from nltk.corpus import stopwords\n",
    "from nltk.tokenize import word_tokenize\n",
    "from sklearn.feature_extraction.text import TfidfVectorizer\n",
    "from sklearn import preprocessing\n",
    "import re\n",
    "from nltk.stem import WordNetLemmatizer\n",
    "\n",
    "data = pd.read_csv('G:/CS Year 4/1st Semester/Graduation/Test3/Dataset.csv')\n",
    "label_encoder = preprocessing.LabelEncoder()\n",
    "data ['accuracy'] = label_encoder.fit_transform(data['accuracy'])\n",
    "student_answer = data['studentAnswer']\n",
    "ref_answers = data['referenceAnswer']\n",
    "ref_1= data['ref_1']\n",
    "ref_2= data['ref_2']\n",
    "ps = PorterStemmer()\n",
    "#answers_arr = answers.to_numpy()\n",
    "#ex_sentence = answers[0]\n",
    "stop_words = set(stopwords.words(\"english\"))"
   ]
  },
  {
   "cell_type": "code",
   "execution_count": 2,
   "metadata": {
    "id": "oRMhyjPbmPb3"
   },
   "outputs": [],
   "source": [
    "def clean(s):\n",
    "  out = word_tokenize(s)\n",
    "  ans = ' '.join([''.join(ps.stem(word)) for word in out if word not in stop_words])\n",
    "  return ans\n",
    "filtered_answers = [clean(s) for s in student_answer]"
   ]
  },
  {
   "cell_type": "code",
   "execution_count": 3,
   "metadata": {
    "colab": {
     "base_uri": "https://localhost:8080/"
    },
    "id": "5NhNb-JYmPlk",
    "outputId": "0ce153db-2247-4faa-be63-b4015740adf0"
   },
   "outputs": [
    {
     "name": "stdout",
     "output_type": "stream",
     "text": [
      "by let sit dish day .\n",
      "By letting it sit in a dish for a day.\n"
     ]
    }
   ],
   "source": [
    "print(filtered_answers[0])\n",
    "print(student_answer[0])"
   ]
  },
  {
   "cell_type": "code",
   "execution_count": 4,
   "metadata": {
    "id": "TbzB4w-KmPr6"
   },
   "outputs": [],
   "source": [
    "def clean(s):\n",
    "  out = word_tokenize(s)\n",
    "  ans = ' '.join([''.join(ps.stem(word)) for word in out if word not in stop_words])\n",
    "  return ans\n",
    "filtered_answers_ref2 = [clean(s) for s in ref_2]"
   ]
  },
  {
   "cell_type": "code",
   "execution_count": 5,
   "metadata": {
    "colab": {
     "base_uri": "https://localhost:8080/"
    },
    "id": "MEPbI9P4mPsw",
    "outputId": "77412017-9374-430e-fbb7-2f73bbaa40cf"
   },
   "outputs": [
    {
     "name": "stdout",
     "output_type": "stream",
     "text": [
      "i put water dish let water evapor salt would stay .\n",
      "I put some water in a dish and let the water evaporate so the salt would stay.\n"
     ]
    }
   ],
   "source": [
    "print(filtered_answers_ref2[0])\n",
    "print(ref_2[0])"
   ]
  },
  {
   "cell_type": "code",
   "execution_count": 6,
   "metadata": {
    "id": "qc5Ls2MkmPyd"
   },
   "outputs": [],
   "source": [
    "answers= filtered_answers+filtered_answers_ref2"
   ]
  },
  {
   "cell_type": "code",
   "execution_count": 7,
   "metadata": {
    "id": "8eQnKmfGmzyF"
   },
   "outputs": [],
   "source": [
    "l=len(filtered_answers)"
   ]
  },
  {
   "cell_type": "code",
   "execution_count": 8,
   "metadata": {
    "id": "AOiV59EImz6i"
   },
   "outputs": [],
   "source": [
    "test_sent = answers\n",
    "# print(test_sent)\n",
    "cv = TfidfVectorizer()\n",
    "tfidf = cv.fit_transform(test_sent)\n",
    "students_answers = tfidf[:l]\n",
    "model_answers = tfidf[l:]"
   ]
  },
  {
   "cell_type": "code",
   "execution_count": 9,
   "metadata": {
    "colab": {
     "base_uri": "https://localhost:8080/"
    },
    "id": "W9Zmt3rRm9_9",
    "outputId": "f8550f30-9865-443a-8e3f-57a5552f4f39"
   },
   "outputs": [
    {
     "name": "stdout",
     "output_type": "stream",
     "text": [
      "Cosine Similarity comparing student answer 0 and model answer 0 is [[0.31355376]]\n",
      "Cosine Similarity comparing student answer 1 and model answer 1 is [[0.51162208]]\n",
      "Cosine Similarity comparing student answer 2 and model answer 2 is [[0.4422124]]\n",
      "Cosine Similarity comparing student answer 3 and model answer 3 is [[0.09596522]]\n",
      "Cosine Similarity comparing student answer 4 and model answer 4 is [[0.10647008]]\n",
      "Cosine Similarity comparing student answer 5 and model answer 5 is [[0.55211025]]\n",
      "Cosine Similarity comparing student answer 6 and model answer 6 is [[0.]]\n",
      "Cosine Similarity comparing student answer 7 and model answer 7 is [[0.49988838]]\n",
      "Cosine Similarity comparing student answer 8 and model answer 8 is [[0.54554235]]\n",
      "Cosine Similarity comparing student answer 9 and model answer 9 is [[0.36568275]]\n",
      "Cosine Similarity comparing student answer 10 and model answer 10 is [[0.39335692]]\n",
      "Cosine Similarity comparing student answer 11 and model answer 11 is [[0.6602261]]\n",
      "Cosine Similarity comparing student answer 12 and model answer 12 is [[0.29468385]]\n",
      "Cosine Similarity comparing student answer 13 and model answer 13 is [[0.53340433]]\n",
      "Cosine Similarity comparing student answer 14 and model answer 14 is [[0.22491741]]\n",
      "Cosine Similarity comparing student answer 15 and model answer 15 is [[0.18191262]]\n",
      "Cosine Similarity comparing student answer 16 and model answer 16 is [[0.17024771]]\n",
      "Cosine Similarity comparing student answer 17 and model answer 17 is [[0.52158905]]\n",
      "Cosine Similarity comparing student answer 18 and model answer 18 is [[0.56831962]]\n",
      "Cosine Similarity comparing student answer 19 and model answer 19 is [[0.28562366]]\n"
     ]
    }
   ],
   "source": [
    "from sklearn.metrics.pairwise import cosine_similarity\n",
    "for x in range(20):\n",
    "    print(\"Cosine Similarity comparing student answer\" , x, \"and model answer\",x , \"is\" ,cosine_similarity(students_answers[x], model_answers[x]))"
   ]
  },
  {
   "cell_type": "code",
   "execution_count": 10,
   "metadata": {
    "id": "E-xUK20tm-GF"
   },
   "outputs": [],
   "source": [
    "threshold = 0.01\n",
    "predictions = []\n",
    "for i in range(l):\n",
    "  predictions.append(*(cosine_similarity(students_answers[i], model_answers[i]) > threshold)[0])"
   ]
  },
  {
   "cell_type": "code",
   "execution_count": 11,
   "metadata": {
    "id": "cz5Djh5Bm0CA"
   },
   "outputs": [],
   "source": [
    "predictions = [1 if predictions[i] == True else 0 for i in range(len(predictions))]"
   ]
  },
  {
   "cell_type": "code",
   "execution_count": 12,
   "metadata": {
    "colab": {
     "base_uri": "https://localhost:8080/"
    },
    "id": "Niqmq9EVmP6d",
    "outputId": "5b2dec88-fca8-404e-822e-94e9b098ff6d"
   },
   "outputs": [
    {
     "name": "stdout",
     "output_type": "stream",
     "text": [
      "0.4619289340101523\n"
     ]
    }
   ],
   "source": [
    "from sklearn.metrics import accuracy_score, precision_score, f1_score, recall_score\n",
    "acc =  accuracy_score(data['accuracy'].to_numpy(), predictions)\n",
    "print(acc)"
   ]
  },
  {
   "cell_type": "code",
   "execution_count": 13,
   "metadata": {
    "colab": {
     "base_uri": "https://localhost:8080/"
    },
    "id": "I99HqqEOnRpp",
    "outputId": "3baf8ff1-e0d3-43b5-8cc0-4f8306ed2a3a"
   },
   "outputs": [
    {
     "name": "stdout",
     "output_type": "stream",
     "text": [
      "0.6051847437425507 0.6898777173913043 0.5390127388535032\n"
     ]
    }
   ],
   "source": [
    "f1 = f1_score(data['accuracy'].to_numpy(), predictions) \n",
    "r = recall_score(data['accuracy'].to_numpy(), predictions)\n",
    "p = precision_score(data['accuracy'].to_numpy(), predictions)\n",
    "print(f1, r, p)"
   ]
  }
 ],
 "metadata": {
  "colab": {
   "name": "lsav3.ipynb",
   "provenance": []
  },
  "kernelspec": {
   "display_name": "Python 3 (ipykernel)",
   "language": "python",
   "name": "python3"
  },
  "language_info": {
   "codemirror_mode": {
    "name": "ipython",
    "version": 3
   },
   "file_extension": ".py",
   "mimetype": "text/x-python",
   "name": "python",
   "nbconvert_exporter": "python",
   "pygments_lexer": "ipython3",
   "version": "3.9.7"
  }
 },
 "nbformat": 4,
 "nbformat_minor": 1
}
