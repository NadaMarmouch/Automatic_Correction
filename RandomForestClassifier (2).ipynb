{
 "cells": [
  {
   "cell_type": "code",
   "execution_count": 1,
   "metadata": {
    "id": "nLs1f0lDd87K"
   },
   "outputs": [],
   "source": [
    "import nltk\n",
    "import pandas as pd\n",
    "import wordcloud\n",
    "import numpy as np\n",
    "from sklearn.model_selection import train_test_split\n",
    "from sklearn.neighbors import KNeighborsClassifier\n",
    "from nltk.stem import PorterStemmer\n",
    "from nltk.corpus import stopwords\n",
    "from nltk.tokenize import word_tokenize\n",
    "from sklearn.feature_extraction.text import TfidfVectorizer\n",
    "from sklearn import preprocessing\n",
    "import re\n",
    "from sklearn.tree import DecisionTreeClassifier\n",
    "from nltk.stem import WordNetLemmatizer\n",
    "from sklearn.naive_bayes import MultinomialNB\n",
    "from sklearn.ensemble import RandomForestClassifier\n",
    "from sklearn.neighbors import KNeighborsClassifier\n",
    "from sklearn.metrics import accuracy_score, confusion_matrix, f1_score\n",
    "from keras.utils import np_utils\n",
    "from collections import defaultdict\n",
    "from keras.layers.embeddings import Embedding\n",
    "from keras.callbacks import EarlyStopping\n",
    "from nltk.tokenize import RegexpTokenizer\n",
    "from sklearn import metrics"
   ]
  },
  {
   "cell_type": "code",
   "execution_count": null,
   "metadata": {
    "colab": {
     "base_uri": "https://localhost:8080/"
    },
    "id": "WyFSARWpfDX5",
    "outputId": "1e6d47a5-bc95-48a3-968f-9368a9a6ceb2"
   },
   "outputs": [],
   "source": []
  },
  {
   "cell_type": "code",
   "execution_count": 2,
   "metadata": {
    "colab": {
     "base_uri": "https://localhost:8080/"
    },
    "id": "Jk11xLYljyxx",
    "outputId": "59fada6d-02c4-4040-9460-c93846ececb7"
   },
   "outputs": [
    {
     "name": "stderr",
     "output_type": "stream",
     "text": [
      "[nltk_data] Downloading package stopwords to\n",
      "[nltk_data]     C:\\Users\\Nada\\AppData\\Roaming\\nltk_data...\n",
      "[nltk_data]   Package stopwords is already up-to-date!\n"
     ]
    },
    {
     "data": {
      "text/plain": [
       "True"
      ]
     },
     "execution_count": 2,
     "metadata": {},
     "output_type": "execute_result"
    }
   ],
   "source": [
    "import nltk\n",
    "nltk.download('stopwords')"
   ]
  },
  {
   "cell_type": "code",
   "execution_count": 3,
   "metadata": {
    "colab": {
     "base_uri": "https://localhost:8080/",
     "height": 354
    },
    "id": "G-VcVLRX11oo",
    "outputId": "ebf66380-4eb8-440f-817c-a28d586bd3ef"
   },
   "outputs": [
    {
     "data": {
      "text/html": [
       "<div>\n",
       "<style scoped>\n",
       "    .dataframe tbody tr th:only-of-type {\n",
       "        vertical-align: middle;\n",
       "    }\n",
       "\n",
       "    .dataframe tbody tr th {\n",
       "        vertical-align: top;\n",
       "    }\n",
       "\n",
       "    .dataframe thead th {\n",
       "        text-align: right;\n",
       "    }\n",
       "</style>\n",
       "<table border=\"1\" class=\"dataframe\">\n",
       "  <thead>\n",
       "    <tr style=\"text-align: right;\">\n",
       "      <th></th>\n",
       "      <th>Unnamed: 0</th>\n",
       "      <th>studentAnswer</th>\n",
       "      <th>referenceAnswer</th>\n",
       "      <th>ref_1</th>\n",
       "      <th>ref_2</th>\n",
       "      <th>accuracy</th>\n",
       "    </tr>\n",
       "  </thead>\n",
       "  <tbody>\n",
       "    <tr>\n",
       "      <th>0</th>\n",
       "      <td>0</td>\n",
       "      <td>By letting it sit in a dish for a day.</td>\n",
       "      <td>The water was evaporated, leaving the salt.</td>\n",
       "      <td>We evaporated the salt from the water because ...</td>\n",
       "      <td>I put some water in a dish and let the water e...</td>\n",
       "      <td>incorrect</td>\n",
       "    </tr>\n",
       "    <tr>\n",
       "      <th>1</th>\n",
       "      <td>1</td>\n",
       "      <td>Let the water evaporate and the salt is left b...</td>\n",
       "      <td>The water was evaporated, leaving the salt.</td>\n",
       "      <td>We evaporated the salt from the water because ...</td>\n",
       "      <td>I put some water in a dish and let the water e...</td>\n",
       "      <td>correct</td>\n",
       "    </tr>\n",
       "    <tr>\n",
       "      <th>2</th>\n",
       "      <td>2</td>\n",
       "      <td>The water evaporated and left salt crystals.</td>\n",
       "      <td>The water was evaporated, leaving the salt.</td>\n",
       "      <td>We evaporated the salt from the water because ...</td>\n",
       "      <td>I put some water in a dish and let the water e...</td>\n",
       "      <td>correct</td>\n",
       "    </tr>\n",
       "    <tr>\n",
       "      <th>3</th>\n",
       "      <td>3</td>\n",
       "      <td>I saw a pinkish grayish color that was blockin...</td>\n",
       "      <td>The water was evaporated, leaving the salt.</td>\n",
       "      <td>We evaporated the salt from the water because ...</td>\n",
       "      <td>I put some water in a dish and let the water e...</td>\n",
       "      <td>incorrect</td>\n",
       "    </tr>\n",
       "    <tr>\n",
       "      <th>4</th>\n",
       "      <td>4</td>\n",
       "      <td>You have to slowly tip the vial for only the w...</td>\n",
       "      <td>The water was evaporated, leaving the salt.</td>\n",
       "      <td>We evaporated the salt from the water because ...</td>\n",
       "      <td>I put some water in a dish and let the water e...</td>\n",
       "      <td>incorrect</td>\n",
       "    </tr>\n",
       "  </tbody>\n",
       "</table>\n",
       "</div>"
      ],
      "text/plain": [
       "   Unnamed: 0                                      studentAnswer  \\\n",
       "0           0             By letting it sit in a dish for a day.   \n",
       "1           1  Let the water evaporate and the salt is left b...   \n",
       "2           2       The water evaporated and left salt crystals.   \n",
       "3           3  I saw a pinkish grayish color that was blockin...   \n",
       "4           4  You have to slowly tip the vial for only the w...   \n",
       "\n",
       "                               referenceAnswer  \\\n",
       "0  The water was evaporated, leaving the salt.   \n",
       "1  The water was evaporated, leaving the salt.   \n",
       "2  The water was evaporated, leaving the salt.   \n",
       "3  The water was evaporated, leaving the salt.   \n",
       "4  The water was evaporated, leaving the salt.   \n",
       "\n",
       "                                               ref_1  \\\n",
       "0  We evaporated the salt from the water because ...   \n",
       "1  We evaporated the salt from the water because ...   \n",
       "2  We evaporated the salt from the water because ...   \n",
       "3  We evaporated the salt from the water because ...   \n",
       "4  We evaporated the salt from the water because ...   \n",
       "\n",
       "                                               ref_2   accuracy  \n",
       "0  I put some water in a dish and let the water e...  incorrect  \n",
       "1  I put some water in a dish and let the water e...    correct  \n",
       "2  I put some water in a dish and let the water e...    correct  \n",
       "3  I put some water in a dish and let the water e...  incorrect  \n",
       "4  I put some water in a dish and let the water e...  incorrect  "
      ]
     },
     "execution_count": 3,
     "metadata": {},
     "output_type": "execute_result"
    }
   ],
   "source": [
    "data = pd.read_csv('Dataset.csv')\n",
    "data.head()"
   ]
  },
  {
   "cell_type": "code",
   "execution_count": 4,
   "metadata": {
    "id": "cNV45QzLd87O"
   },
   "outputs": [],
   "source": [
    "label_encoder = preprocessing.LabelEncoder()\n",
    "#data ['accuracy'] = label_encoder.fit_transform(data['accuracy'])\n",
    "#data ['studentAnswer'] = label_encoder.fit_transform(data['studentAnswer'])\n",
    "student_answer = data['studentAnswer']\n",
    "ref_answers = data['referenceAnswer'] \n",
    "ref_1= data['ref_1']\n",
    "ref_2= data['ref_2']\n",
    "ps = PorterStemmer()\n",
    "stop_words = set(stopwords.words(\"english\"))"
   ]
  },
  {
   "cell_type": "code",
   "execution_count": 5,
   "metadata": {
    "colab": {
     "base_uri": "https://localhost:8080/"
    },
    "id": "n940V2lqkEbj",
    "outputId": "95546bfc-67bd-4a2b-aaa3-48da9c09340b"
   },
   "outputs": [
    {
     "name": "stderr",
     "output_type": "stream",
     "text": [
      "[nltk_data] Downloading package punkt to\n",
      "[nltk_data]     C:\\Users\\Nada\\AppData\\Roaming\\nltk_data...\n",
      "[nltk_data]   Package punkt is already up-to-date!\n"
     ]
    },
    {
     "data": {
      "text/plain": [
       "True"
      ]
     },
     "execution_count": 5,
     "metadata": {},
     "output_type": "execute_result"
    }
   ],
   "source": [
    "import nltk\n",
    "nltk.download('punkt')"
   ]
  },
  {
   "cell_type": "code",
   "execution_count": 6,
   "metadata": {
    "id": "CV2XqQ26d87P"
   },
   "outputs": [],
   "source": [
    "def clean(s):\n",
    "  out = word_tokenize(s)\n",
    "  ans = ' '.join([''.join(ps.stem(word)) for word in out if word not in stop_words])\n",
    "  return ans\n",
    "filtered_answers = [clean(s) for s in student_answer]"
   ]
  },
  {
   "cell_type": "code",
   "execution_count": 7,
   "metadata": {
    "colab": {
     "base_uri": "https://localhost:8080/"
    },
    "id": "3DI7Fm2qd87Q",
    "outputId": "3588da0d-632a-41b5-eb9e-8ca4fd1189f8"
   },
   "outputs": [
    {
     "name": "stdout",
     "output_type": "stream",
     "text": [
      "By let sit dish day .\n",
      "By letting it sit in a dish for a day.\n"
     ]
    }
   ],
   "source": [
    "print(filtered_answers[0])\n",
    "print(student_answer[0])"
   ]
  },
  {
   "cell_type": "code",
   "execution_count": 8,
   "metadata": {
    "id": "R0_kuzGjd87Q"
   },
   "outputs": [],
   "source": [
    "def clean(s):\n",
    "  out = word_tokenize(s)\n",
    "  ans = ' '.join([''.join(ps.stem(word)) for word in out if word not in stop_words])\n",
    "  return ans\n",
    "filtered_answers_ref2 = [clean(s) for s in ref_2]"
   ]
  },
  {
   "cell_type": "code",
   "execution_count": 9,
   "metadata": {
    "colab": {
     "base_uri": "https://localhost:8080/"
    },
    "id": "OgHUctlEd87R",
    "outputId": "e9e9c4af-c391-4c0d-bf87-ec33b6fb5669"
   },
   "outputs": [
    {
     "name": "stdout",
     "output_type": "stream",
     "text": [
      "I put water dish let water evapor salt would stay .\n",
      "I put some water in a dish and let the water evaporate so the salt would stay.\n"
     ]
    }
   ],
   "source": [
    "print(filtered_answers_ref2[0])\n",
    "print(ref_2[0])"
   ]
  },
  {
   "cell_type": "code",
   "execution_count": 10,
   "metadata": {
    "id": "T78i5xpKd87R"
   },
   "outputs": [],
   "source": [
    "accuracy_tf = label_encoder.fit_transform(data['accuracy'])"
   ]
  },
  {
   "cell_type": "code",
   "execution_count": 11,
   "metadata": {
    "colab": {
     "base_uri": "https://localhost:8080/"
    },
    "id": "fpnIL3Bt0ykH",
    "outputId": "4e9af7da-45f1-405f-f92f-adc15f781838"
   },
   "outputs": [
    {
     "name": "stdout",
     "output_type": "stream",
     "text": [
      "RandomForestClassifier Model Accuracy: 0.8\n"
     ]
    }
   ],
   "source": [
    "ps = PorterStemmer()\n",
    "tf = TfidfVectorizer()\n",
    "\n",
    "\n",
    "text_tf = tf.fit_transform(data['studentAnswer'])\n",
    "\n",
    "# Split data into Test-Train sets\n",
    "X_train, X_test, y_train, y_test = train_test_split(\n",
    "    text_tf, accuracy_tf, test_size=0.001, random_state=1)\n",
    "\n",
    "clf = RandomForestClassifier().fit(X_train, y_train)\n",
    "predicted = clf.predict(X_test)\n",
    "\n",
    "\n",
    "print(\"RandomForestClassifier Model Accuracy:\", metrics.accuracy_score(y_test, predicted))"
   ]
  },
  {
   "cell_type": "code",
   "execution_count": 12,
   "metadata": {},
   "outputs": [
    {
     "name": "stdout",
     "output_type": "stream",
     "text": [
      "\n",
      "Accuracy on validation set: 0.8000\n",
      "\n",
      "Classification report : \n",
      "               precision    recall  f1-score   support\n",
      "\n",
      "           0       0.67      1.00      0.80         2\n",
      "           1       1.00      0.67      0.80         3\n",
      "\n",
      "    accuracy                           0.80         5\n",
      "   macro avg       0.83      0.83      0.80         5\n",
      "weighted avg       0.87      0.80      0.80         5\n",
      "\n",
      "\n",
      "Confusion Matrix : \n",
      " [[2 0]\n",
      " [1 2]]\n"
     ]
    }
   ],
   "source": [
    "def modelEvaluation(predictions):\n",
    "    '''\n",
    "    Print model evaluation to predicted result \n",
    "    '''\n",
    "    print (\"\\nAccuracy on validation set: {:.4f}\".format(accuracy_score(y_test, predictions)))\n",
    "    #print(\"\\nAUC score : {:.4f}\".format(roc_auc_score(y_test, predictions)))\n",
    "    print(\"\\nClassification report : \\n\", metrics.classification_report(y_test, predictions))\n",
    "    print(\"\\nConfusion Matrix : \\n\", metrics.confusion_matrix(y_test, predictions))\n",
    "\n",
    "modelEvaluation(predicted)"
   ]
  },
  {
   "cell_type": "code",
   "execution_count": null,
   "metadata": {},
   "outputs": [],
   "source": []
  }
 ],
 "metadata": {
  "colab": {
   "collapsed_sections": [],
   "name": "RandomForestClassifier.ipynb",
   "provenance": []
  },
  "kernelspec": {
   "display_name": "Python 3",
   "language": "python",
   "name": "python3"
  },
  "language_info": {
   "codemirror_mode": {
    "name": "ipython",
    "version": 3
   },
   "file_extension": ".py",
   "mimetype": "text/x-python",
   "name": "python",
   "nbconvert_exporter": "python",
   "pygments_lexer": "ipython3",
   "version": "3.8.5"
  }
 },
 "nbformat": 4,
 "nbformat_minor": 1
}
